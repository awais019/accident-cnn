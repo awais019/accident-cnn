{
  "cells": [
    {
      "cell_type": "code",
      "execution_count": 1,
      "metadata": {
        "id": "gZyfvnQ1JRb4"
      },
      "outputs": [],
      "source": [
        "import torch\n",
        "import torch.nn as nn\n",
        "import torch.optim as optim\n",
        "from torchvision import models, datasets, transforms\n",
        "from torch.utils.data import DataLoader\n"
      ]
    },
    {
      "cell_type": "code",
      "execution_count": 2,
      "metadata": {
        "id": "N-so2D_AJYuC"
      },
      "outputs": [],
      "source": [
        "model = models.resnet18(weights=models.ResNet18_Weights.DEFAULT)\n",
        "\n",
        "for param in model.parameters():\n",
        "    param.requires_grad = False\n",
        "\n",
        "num_features = model.fc.in_features\n",
        "model.fc = nn.Sequential(\n",
        "    nn.Linear(num_features, 512),\n",
        "    nn.ReLU(),\n",
        "    nn.Dropout(0.5),\n",
        "    nn.Linear(512, 128),\n",
        "    nn.ReLU(),\n",
        "    nn.Dropout(0.5),\n",
        "    nn.Linear(128, 2) \n",
        ")\n"
      ]
    },
    {
      "cell_type": "code",
      "execution_count": 3,
      "metadata": {
        "id": "7P086i72JgFp"
      },
      "outputs": [],
      "source": [
        "train_transform = transforms.Compose([\n",
        "    transforms.Resize((256, 256)),\n",
        "    transforms.ToTensor(),\n",
        "    transforms.Normalize([0.485, 0.456, 0.406], [0.229, 0.224, 0.225])\n",
        "])\n",
        "\n",
        "test_val_transform = transforms.Compose([\n",
        "    transforms.Resize((256, 256)),\n",
        "    transforms.ToTensor(),\n",
        "    transforms.Normalize([0.485, 0.456, 0.406], [0.229, 0.224, 0.225])\n",
        "])\n"
      ]
    },
    {
      "cell_type": "code",
      "execution_count": 4,
      "metadata": {
        "id": "6dEpoUs2JhyE"
      },
      "outputs": [],
      "source": [
        "train_dataset = datasets.ImageFolder(root='dataset/train', transform=train_transform)\n",
        "val_dataset = datasets.ImageFolder(root='dataset/val', transform=test_val_transform)\n",
        "test_dataset = datasets.ImageFolder(root='dataset/test', transform=test_val_transform)\n",
        "\n",
        "trainloader = DataLoader(train_dataset, batch_size=100, shuffle=True)\n",
        "valloader = DataLoader(val_dataset, batch_size=100, shuffle=False)\n",
        "testloader = DataLoader(test_dataset, batch_size=100, shuffle=False)\n"
      ]
    },
    {
      "cell_type": "code",
      "execution_count": 5,
      "metadata": {
        "id": "ZwjayulrJjSh"
      },
      "outputs": [],
      "source": [
        "optimizer = optim.Adam(model.fc.parameters(), lr=0.001)\n",
        "criterion = nn.CrossEntropyLoss()\n",
        "device = torch.device(\"cuda\" if torch.cuda.is_available() else \"cpu\")\n",
        "model = model.to(device)"
      ]
    },
    {
      "cell_type": "code",
      "execution_count": 8,
      "metadata": {
        "colab": {
          "base_uri": "https://localhost:8080/"
        },
        "id": "LfjcQTvEJthl",
        "outputId": "d4526bd7-847a-4b50-f76f-d17a6a524eb8"
      },
      "outputs": [
        {
          "name": "stdout",
          "output_type": "stream",
          "text": [
            "Epoch 1, Loss: 0.6197, Validation Accuracy: 0.6837\n",
            "Epoch 2, Loss: 0.5886, Validation Accuracy: 0.7653\n",
            "Epoch 3, Loss: 0.5925, Validation Accuracy: 0.7143\n",
            "Epoch 4, Loss: 0.5135, Validation Accuracy: 0.7551\n",
            "Epoch 5, Loss: 0.5600, Validation Accuracy: 0.7347\n",
            "Epoch 6, Loss: 0.5233, Validation Accuracy: 0.8163\n",
            "Epoch 7, Loss: 0.4554, Validation Accuracy: 0.7857\n",
            "Epoch 8, Loss: 0.6124, Validation Accuracy: 0.7551\n",
            "Epoch 9, Loss: 0.4440, Validation Accuracy: 0.8265\n",
            "Epoch 10, Loss: 0.4253, Validation Accuracy: 0.8776\n",
            "Epoch 11, Loss: 0.4168, Validation Accuracy: 0.8878\n",
            "Epoch 12, Loss: 0.4373, Validation Accuracy: 0.8673\n",
            "Epoch 13, Loss: 0.3519, Validation Accuracy: 0.8980\n",
            "Epoch 14, Loss: 0.3173, Validation Accuracy: 0.8061\n",
            "Epoch 15, Loss: 0.3295, Validation Accuracy: 0.8163\n",
            "Epoch 16, Loss: 0.2564, Validation Accuracy: 0.8878\n",
            "Epoch 17, Loss: 0.3247, Validation Accuracy: 0.8776\n",
            "Epoch 18, Loss: 0.2552, Validation Accuracy: 0.8878\n",
            "Epoch 19, Loss: 0.2327, Validation Accuracy: 0.9184\n",
            "Epoch 20, Loss: 0.2361, Validation Accuracy: 0.8776\n"
          ]
        }
      ],
      "source": [
        "def train(model, trainloader, optimizer, criterion, device):\n",
        "    model.train()\n",
        "    for data in trainloader:\n",
        "        inputs, labels = data\n",
        "        inputs, labels = inputs.to(device), labels.to(device)\n",
        "        optimizer.zero_grad()\n",
        "        outputs = model(inputs)\n",
        "        loss = criterion(outputs, labels)\n",
        "        loss.backward()\n",
        "        optimizer.step()\n",
        "    return loss.item()\n",
        "\n",
        "def validate(model, validationloader, device):\n",
        "    model.eval()\n",
        "    total = 0\n",
        "    correct = 0\n",
        "    with torch.no_grad():\n",
        "        for data in validationloader:\n",
        "            inputs, labels = data\n",
        "            inputs, labels = inputs.to(device), labels.to(device)\n",
        "            outputs = model(inputs)\n",
        "            _, predicted = torch.max(outputs.data, 1)\n",
        "            total += labels.size(0)\n",
        "            correct += (predicted == labels).sum().item()\n",
        "    return correct / total\n",
        "\n",
        "for epoch in range(20): \n",
        "    train_loss = train(model, trainloader, optimizer, criterion, device)\n",
        "    validation_accuracy = validate(model, valloader, device)\n",
        "    print(f'Epoch {epoch+1}, Loss: {train_loss:.4f}, Validation Accuracy: {validation_accuracy:.4f}')\n"
      ]
    },
    {
      "cell_type": "code",
      "execution_count": 9,
      "metadata": {
        "colab": {
          "base_uri": "https://localhost:8080/"
        },
        "id": "hVJatLDjRnuQ",
        "outputId": "35bb9fac-356a-4bff-e43f-9804daed6ec3"
      },
      "outputs": [
        {
          "name": "stdout",
          "output_type": "stream",
          "text": [
            "Accuracy of the network on the test images: 89%\n"
          ]
        }
      ],
      "source": [
        "correct = 0\n",
        "total = 0\n",
        "with torch.no_grad():\n",
        "    for data in testloader:\n",
        "        images, labels = data\n",
        "        images = images.to(device)\n",
        "        labels = labels.to(device)\n",
        "        outputs = model(images)\n",
        "        _, predicted = torch.max(outputs.data, 1)\n",
        "        total += labels.size(0)\n",
        "        correct += (predicted == labels).sum().item()\n",
        "\n",
        "print(f'Accuracy of the network on the test images: {100 * correct // total}%')\n"
      ]
    },
    {
      "cell_type": "code",
      "execution_count": 10,
      "metadata": {},
      "outputs": [
        {
          "ename": "",
          "evalue": "",
          "output_type": "error",
          "traceback": [
            "\u001b[1;31mThe Kernel crashed while executing code in the the current cell or a previous cell. Please review the code in the cell(s) to identify a possible cause of the failure. Click <a href='https://aka.ms/vscodeJupyterKernelCrash'>here</a> for more info. View Jupyter <a href='command:jupyter.viewOutput'>log</a> for further details."
          ]
        }
      ],
      "source": [
        "import gc\n",
        "\n",
        "model.cpu()\n",
        "del model\n",
        "gc.collect()\n",
        "torch.cuda.empty_cache()"
      ]
    }
  ],
  "metadata": {
    "colab": {
      "provenance": []
    },
    "kernelspec": {
      "display_name": "Python 3",
      "name": "python3"
    },
    "language_info": {
      "codemirror_mode": {
        "name": "ipython",
        "version": 3
      },
      "file_extension": ".py",
      "mimetype": "text/x-python",
      "name": "python",
      "nbconvert_exporter": "python",
      "pygments_lexer": "ipython3",
      "version": "3.9.18"
    }
  },
  "nbformat": 4,
  "nbformat_minor": 0
}
